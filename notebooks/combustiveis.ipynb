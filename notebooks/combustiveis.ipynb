{
 "cells": [
  {
   "cell_type": "code",
   "execution_count": 1,
   "id": "4e315729-b135-4545-81ec-753cddd34a77",
   "metadata": {},
   "outputs": [],
   "source": [
    "from pyspark import SparkConf, SparkContext\n",
    "from pyspark.sql import SparkSession\n",
    "from pyspark.sql import functions as f"
   ]
  },
  {
   "cell_type": "code",
   "execution_count": 2,
   "id": "7cc3760d-e576-4be3-ad1a-b21dd4ac8306",
   "metadata": {},
   "outputs": [],
   "source": [
    "spark = (\n",
    "    SparkSession\n",
    "    .builder\n",
    "    .appName(\"combustiveis_app\")\n",
    "    .enableHiveSupport()\n",
    "    .getOrCreate()\n",
    ")\n",
    "spark.sparkContext.setLogLevel(\"WARN\")"
   ]
  },
  {
   "cell_type": "code",
   "execution_count": 3,
   "id": "5e01957e-9380-4c97-862f-8bda96bd807e",
   "metadata": {},
   "outputs": [],
   "source": [
    "conf = spark.sparkContext._jsc.hadoopConfiguration()\n",
    "conf.set(\"fs.gs.auth.service.account.enable\", \"true\")\n",
    "conf.set(\"fs.gs.auth.service.account.json.keyfile\", \"/mnt/secrets/key.json\")\n",
    "conf.set(\"fs.gs.impl\", \"com.google.cloud.hadoop.fs.gcs.GoogleHadoopFileSystem\")\n",
    "conf.set(\"fs.AbstractFileSystem.gs.impl\", \"com.google.cloud.hadoop.fs.gcs.GoogleHadoopFS\")"
   ]
  },
  {
   "cell_type": "code",
   "execution_count": 4,
   "id": "99f13825-32c1-4bce-9f65-4f281a32fb19",
   "metadata": {},
   "outputs": [],
   "source": [
    "df_landing = (\n",
    "    spark\n",
    "    .read\n",
    "    .format(\"csv\")\n",
    "    .options(header='true', inferSchema='true', delimiter=';')\n",
    "    .load(\"gs://lading-zone-299792458/combustiveis/ca-2016-01.csv\")\n",
    ")"
   ]
  },
  {
   "cell_type": "code",
   "execution_count": 5,
   "id": "829b5bc6-3583-4b4d-9c0e-bc7b001d745e",
   "metadata": {},
   "outputs": [
    {
     "name": "stdout",
     "output_type": "stream",
     "text": [
      "root\n",
      " |-- Regiao - Sigla: string (nullable = true)\n",
      " |-- Estado - Sigla: string (nullable = true)\n",
      " |-- Municipio: string (nullable = true)\n",
      " |-- Revenda: string (nullable = true)\n",
      " |-- CNPJ da Revenda: string (nullable = true)\n",
      " |-- Nome da Rua: string (nullable = true)\n",
      " |-- Numero Rua: string (nullable = true)\n",
      " |-- Complemento: string (nullable = true)\n",
      " |-- Bairro: string (nullable = true)\n",
      " |-- Cep: string (nullable = true)\n",
      " |-- Produto: string (nullable = true)\n",
      " |-- Data da Coleta: string (nullable = true)\n",
      " |-- Valor de Venda: string (nullable = true)\n",
      " |-- Valor de Compra: string (nullable = true)\n",
      " |-- Unidade de Medida: string (nullable = true)\n",
      " |-- Bandeira: string (nullable = true)\n",
      "\n"
     ]
    }
   ],
   "source": [
    "df_landing.printSchema()"
   ]
  },
  {
   "cell_type": "code",
   "execution_count": 6,
   "id": "85cc2f37-8180-434e-9206-a5affd7eef89",
   "metadata": {},
   "outputs": [
    {
     "data": {
      "text/plain": [
       "486897"
      ]
     },
     "execution_count": 6,
     "metadata": {},
     "output_type": "execute_result"
    }
   ],
   "source": [
    "df_landing.count()"
   ]
  },
  {
   "cell_type": "code",
   "execution_count": 7,
   "id": "ae16114e-1529-4d6e-8d9a-5d3cd6906bd4",
   "metadata": {},
   "outputs": [],
   "source": [
    "df_silver = (\n",
    "    spark\n",
    "    .read\n",
    "    .format(\"parquet\")\n",
    "    .load(\"gs://silver-zone-299792458/combustiveis/\")\n",
    ")"
   ]
  },
  {
   "cell_type": "code",
   "execution_count": 8,
   "id": "c1a38043-55bd-489b-834f-d63ab37bf1a7",
   "metadata": {},
   "outputs": [
    {
     "name": "stdout",
     "output_type": "stream",
     "text": [
      "root\n",
      " |-- regiao_sigla: string (nullable = true)\n",
      " |-- estado_sigla: string (nullable = true)\n",
      " |-- municipio: string (nullable = true)\n",
      " |-- revenda: string (nullable = true)\n",
      " |-- cnpj_da_revenda: string (nullable = true)\n",
      " |-- nome_da_rua: string (nullable = true)\n",
      " |-- numero_rua: string (nullable = true)\n",
      " |-- complemento: string (nullable = true)\n",
      " |-- bairro: string (nullable = true)\n",
      " |-- cep: string (nullable = true)\n",
      " |-- produto: string (nullable = true)\n",
      " |-- data_da_coleta: string (nullable = true)\n",
      " |-- valor_de_venda: double (nullable = true)\n",
      " |-- valor_de_compra: double (nullable = true)\n",
      " |-- unidade_de_medida: string (nullable = true)\n",
      " |-- bandeira: string (nullable = true)\n",
      " |-- file_name: string (nullable = true)\n",
      "\n"
     ]
    }
   ],
   "source": [
    "df_silver.printSchema()"
   ]
  },
  {
   "cell_type": "code",
   "execution_count": 9,
   "id": "79217ce1-82ac-47f9-b180-a55a186dbec1",
   "metadata": {},
   "outputs": [
    {
     "data": {
      "text/plain": [
       "7773224"
      ]
     },
     "execution_count": 9,
     "metadata": {},
     "output_type": "execute_result"
    }
   ],
   "source": [
    "df_silver.count()"
   ]
  },
  {
   "cell_type": "code",
   "execution_count": 13,
   "id": "3a0e460e-cbb4-495c-a44f-ad4024f1fbbf",
   "metadata": {},
   "outputs": [],
   "source": [
    "df_silver_2016_01 =  df_silver.where(f.col('file_name') == 'gs://lading-zone-299792458/combustiveis/ca-2016-01.csv')"
   ]
  },
  {
   "cell_type": "code",
   "execution_count": 14,
   "id": "43a820a8-4966-48ee-ae3f-5f8ab54b4462",
   "metadata": {},
   "outputs": [
    {
     "name": "stdout",
     "output_type": "stream",
     "text": [
      "+------------+-------------------+--------------------+\n",
      "|estado_sigla|avg(valor_de_venda)|avg(valor_de_compra)|\n",
      "+------------+-------------------+--------------------+\n",
      "|          SC| 3.1772432326786446|  2.8415160185967934|\n",
      "|          RO| 3.5485229295003644|  3.0588587769784157|\n",
      "|          PI| 3.3867126962051417|  3.0005756143667313|\n",
      "|          AM|  3.577786058746206|  3.0805091746248303|\n",
      "|          RR|  3.530304709141284|   3.081691703056768|\n",
      "|          GO| 3.2157576949657165|   2.844709628832706|\n",
      "|          TO|  3.351466737910748|  2.9310575757575763|\n",
      "|          MT| 3.2795786468247186|  2.8502949095022547|\n",
      "|          SP|  3.013359033221733|  2.6216841530054666|\n",
      "|          ES|   3.28502738192192|   2.939781697546312|\n",
      "|          PB| 3.2211107182732133|  2.8783362050924355|\n",
      "|          RS| 3.4500900888992065|   2.987821485010469|\n",
      "|          MS|  3.307321733333332|   2.870162062566282|\n",
      "|          AL|  3.339623248293248|   2.949637021276589|\n",
      "|          MG| 3.1952225643738212|  2.8136022768341187|\n",
      "|          PA| 3.6138325812274155|  3.1263759459459566|\n",
      "|          BA|  3.265888252339888|   2.839629022924558|\n",
      "|          SE|  3.251008521892427|   2.891590736145573|\n",
      "|          PE| 3.2430556120314193|  2.8996300447687173|\n",
      "|          CE|  3.445316317016221|  3.0364684521955643|\n",
      "|          RN| 3.3311919349256285|  2.9895633540372644|\n",
      "|          RJ|  3.344818541074451|  2.9442390865668204|\n",
      "|          MA|   3.32831188331186|   2.991787513007287|\n",
      "|          AC| 3.7572223076922957|       3.20747727639|\n",
      "|          DF| 3.4554359326691686|   3.002860158013548|\n",
      "|          PR|  3.097628484654641|   2.750802453170309|\n",
      "|          AP| 3.6534268605646076|   3.327849425287353|\n",
      "+------------+-------------------+--------------------+\n",
      "\n"
     ]
    }
   ],
   "source": [
    "(\n",
    "    df_silver_2016_01\n",
    "    .select(\"estado_sigla\", \"valor_de_venda\", \"valor_de_compra\")\n",
    "    .groupBy('estado_sigla')\n",
    "    .mean().show(30)\n",
    ")"
   ]
  },
  {
   "cell_type": "code",
   "execution_count": null,
   "id": "131be1df-9545-4a2a-b4ae-e80482a73534",
   "metadata": {},
   "outputs": [],
   "source": []
  }
 ],
 "metadata": {
  "kernelspec": {
   "display_name": "Python 3",
   "language": "python",
   "name": "python3"
  },
  "language_info": {
   "codemirror_mode": {
    "name": "ipython",
    "version": 3
   },
   "file_extension": ".py",
   "mimetype": "text/x-python",
   "name": "python",
   "nbconvert_exporter": "python",
   "pygments_lexer": "ipython3",
   "version": "3.9.4"
  }
 },
 "nbformat": 4,
 "nbformat_minor": 5
}
